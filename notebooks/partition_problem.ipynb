{
 "cells": [
  {
   "cell_type": "markdown",
   "id": "f54a3e05",
   "metadata": {},
   "source": [
    "# Partition Problem\n",
    "(see also [Wikipedia](https://en.wikipedia.org/wiki/Partition_problem))"
   ]
  },
  {
   "cell_type": "markdown",
   "id": "3d099896",
   "metadata": {},
   "source": [
    "The partition problem for a set of uniformly distributed numbers $\\mathcal{S} = \\{a_1, ..., a_N\\}$ consists of finding two subsets $ \\mathcal{S}_{1} \\cup \\mathcal{S}_2 =  \\mathcal{S}$ such that the difference of the sums over the two subsets $\\mathcal{S}_{1, 2}$ is as small as possible. The cost function in Ising form can be defined as \n",
    "$$\n",
    "\\hat C = -\\left(\\sum_{i=1}^{N} a_i \\hat{Z}_i\\right)^2 = \\sum_{i<j\\leq N} J_{ij} \\hat{Z}_i \\hat{Z}_j + \\mathrm{const.}\n",
    "$$\n",
    "with $J_{ij}=-2a_i a_j$. The goal is then to _maximize_ $\\hat C$.\n"
   ]
  },
  {
   "cell_type": "code",
   "execution_count": 89,
   "id": "ffe913bf",
   "metadata": {},
   "outputs": [
    {
     "name": "stderr",
     "output_type": "stream",
     "text": [
      "WARNING: replacing module QAOA.\n"
     ]
    }
   ],
   "source": [
    "using DrWatson\n",
    "@quickactivate \"QAOA.jl\"\n",
    "\n",
    "include(\"../src/QAOA.jl\")\n",
    "\n",
    "using PyPlot\n",
    "PyPlot.plt.style.use(\"paper.mplstyle\")\n",
    "using PyCall\n",
    "np = pyimport(\"numpy\");"
   ]
  },
  {
   "cell_type": "code",
   "execution_count": 90,
   "id": "cd57e8e9",
   "metadata": {},
   "outputs": [
    {
     "name": "stdout",
     "output_type": "stream",
     "text": [
      "[0.417022004702574, 0.7203244934421581, 0.00011437481734488664, 0.30233257263183977]\n"
     ]
    }
   ],
   "source": [
    "N = 4\n",
    "np.random.seed(1)\n",
    "a = np.random.uniform(size=N)\n",
    "println(a)"
   ]
  },
  {
   "cell_type": "code",
   "execution_count": 91,
   "id": "27e68ab1",
   "metadata": {},
   "outputs": [],
   "source": [
    "J = -2 * np.outer(a |> transpose, a)\n",
    "np.fill_diagonal(J, 0.)  "
   ]
  },
  {
   "cell_type": "code",
   "execution_count": 92,
   "id": "20594a4a",
   "metadata": {},
   "outputs": [
    {
     "data": {
      "text/plain": [
       "Main.QAOA.Problem\n",
       "  num_qubits: Int64 4\n",
       "  num_layers: Int64 4\n",
       "  local_fields: Array{Real}((4,)) Real[0.0, 0.0, 0.0, 0.0]\n",
       "  couplings: Array{Real}((4, 4)) Real[0.0 -0.6007823285832298 -9.539363123331071e-5 -0.25215867105163275; -0.6007823285832298 0.0 -0.00016477396473298965 -0.43555511446418893; -9.539363123331071e-5 -0.00016477396473298965 0.0 -6.915846554435269e-5; -0.25215867105163275 -0.43555511446418893 -6.915846554435269e-5 0.0]\n",
       "  driver: YaoBlocks.ConstGate.XGate X\n"
      ]
     },
     "execution_count": 92,
     "metadata": {},
     "output_type": "execute_result"
    }
   ],
   "source": [
    "p = 4\n",
    "problem = QAOA.Problem(p, zeros(N), J)"
   ]
  },
  {
   "cell_type": "markdown",
   "id": "a2f1dbc1",
   "metadata": {},
   "source": [
    "__Using the wrapper function:__"
   ]
  },
  {
   "cell_type": "code",
   "execution_count": 93,
   "id": "42e55fe0",
   "metadata": {},
   "outputs": [
    {
     "data": {
      "text/plain": [
       "Main.QAOA.Problem\n",
       "  num_qubits: Int64 4\n",
       "  num_layers: Int64 4\n",
       "  local_fields: Array{Real}((4,)) Real[0.0, 0.0, 0.0, 0.0]\n",
       "  couplings: Array{Real}((4, 4)) Real[0.0 -0.6007823285832298 -9.539363123331071e-5 -0.25215867105163275; -0.6007823285832298 0.0 -0.00016477396473298965 -0.43555511446418893; -9.539363123331071e-5 -0.00016477396473298965 0.0 -6.915846554435269e-5; -0.25215867105163275 -0.43555511446418893 -6.915846554435269e-5 0.0]\n",
       "  driver: YaoBlocks.ConstGate.XGate X\n"
      ]
     },
     "execution_count": 93,
     "metadata": {},
     "output_type": "execute_result"
    }
   ],
   "source": [
    "partition_problem = QAOA.partition_problem(a, num_layers=p)"
   ]
  },
  {
   "cell_type": "markdown",
   "id": "5f4ee055",
   "metadata": {},
   "source": [
    "__Gradient optimization with [Zygote](https://fluxml.ai/Zygote.jl/latest/):__"
   ]
  },
  {
   "cell_type": "code",
   "execution_count": 94,
   "id": "70ea18ce",
   "metadata": {},
   "outputs": [
    {
     "data": {
      "text/plain": [
       "(0.6929984079160132, [0.4184650916137725, 0.8682807298150977, 0.7694432831411955, 0.27701401939879555, 0.9567553045776404, 0.7450141052431506, -0.011127517528605737, 1.090117046114434], [0.00013063202857128194, 0.05144898302909395, 0.19319918864610724, 0.005230304151213926, 0.00013136319453834768, 0.051477301425649345, 0.19315063976577795, 0.005231587759047683, 0.005231587759047683, 0.19315063976577795, 0.051477301425649345, 0.00013136319453834768, 0.005230304151213926, 0.19319918864610724, 0.05144898302909395, 0.00013063202857128194])"
      ]
     },
     "execution_count": 94,
     "metadata": {},
     "output_type": "execute_result"
    }
   ],
   "source": [
    "learning_rate = 0.05\n",
    "cost, params, probs = QAOA.optimize_parameters(partition_problem, vcat([0.5 for _ in 1:p], [0.5 for _ in 1:p]); learning_rate=learning_rate)"
   ]
  },
  {
   "cell_type": "markdown",
   "id": "d82ca122",
   "metadata": {},
   "source": [
    "__Optimization with [NLopt](https://nlopt.readthedocs.io/en/latest/):__"
   ]
  },
  {
   "cell_type": "code",
   "execution_count": 95,
   "id": "bcdf8eaa",
   "metadata": {},
   "outputs": [
    {
     "data": {
      "text/plain": [
       "(0.7082712483358824, [0.29075163390787356, 0.3137026309121307, 1.3374312700295328, 0.4282478859105209, 0.8320897937421404, 1.1342376735074426, 0.6044669427283843, 0.6812614267419678], [0.0002249202801558409, 0.045073302797252315, 0.2018800545418741, 0.002826597684404648, 0.00022276179505235403, 0.04510684811471382, 0.20182923423344634, 0.002836280553100816, 0.002836280553100816, 0.20182923423344634, 0.04510684811471382, 0.00022276179505235403, 0.002826597684404648, 0.2018800545418741, 0.045073302797252315, 0.0002249202801558409])"
      ]
     },
     "execution_count": 95,
     "metadata": {},
     "output_type": "execute_result"
    }
   ],
   "source": [
    "cost, params, probs = QAOA.optimize_parameters(partition_problem, vcat([0.5 for _ in 1:p], [0.5 for _ in 1:p]), :LN_COBYLA)"
   ]
  },
  {
   "cell_type": "code",
   "execution_count": 122,
   "id": "3fab0996",
   "metadata": {
    "scrolled": true
   },
   "outputs": [
    {
     "data": {
      "image/png": "[encoded data removed]",
      "text/plain": [
       "Figure(PyObject <Figure size 500x320 with 1 Axes>)"
      ]
     },
     "metadata": {},
     "output_type": "display_data"
    }
   ],
   "source": [
    "xlabels = []\n",
    "for bstr in digits.(0:2^N-1, base=2, pad=N)\n",
    "    push!(xlabels, \"\\$|\" * prod([string(b) for b in bstr]) * \"\\\\rangle\\$\")\n",
    "end\n",
    "\n",
    "figure(figsize=(5, 3.2))\n",
    "ax = subplot(111)\n",
    "bar(0:2^N-1, probs)\n",
    "ax.set_xticks(0:2^N-1)\n",
    "ax.set_xticklabels(xlabels, rotation=90)\n",
    "minorticks_off()\n",
    "tight_layout()"
   ]
  },
  {
   "cell_type": "code",
   "execution_count": 118,
   "id": "3d004c66",
   "metadata": {},
   "outputs": [
    {
     "name": "stdout",
     "output_type": "stream",
     "text": [
      "[0.417022004702574, 0.7203244934421581, 0.00011437481734488664, 0.30233257263183977]\n"
     ]
    }
   ],
   "source": [
    "println(a)"
   ]
  },
  {
   "cell_type": "code",
   "execution_count": null,
   "id": "9d420da9",
   "metadata": {},
   "outputs": [],
   "source": []
  }
 ],
 "metadata": {
  "kernelspec": {
   "display_name": "Julia 1.7.2",
   "language": "julia",
   "name": "julia-1.7"
  },
  "language_info": {
   "file_extension": ".jl",
   "mimetype": "application/julia",
   "name": "julia",
   "version": "1.7.2"
  }
 },
 "nbformat": 4,
 "nbformat_minor": 5
}
