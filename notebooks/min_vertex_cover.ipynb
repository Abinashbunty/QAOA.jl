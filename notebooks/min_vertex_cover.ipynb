{
 "cells": [
  {
   "cell_type": "markdown",
   "id": "ac910b68",
   "metadata": {},
   "source": [
    "# Minimum Vertex Cover\n",
    "(see also [Wikipedia](https://en.wikipedia.org/wiki/Vertex_cover))"
   ]
  },
  {
   "cell_type": "markdown",
   "id": "204afa8b",
   "metadata": {},
   "source": [
    "To be able to directly compare to the [Pennylane implementation](https://github.com/PennyLaneAI/pennylane/blob/master/pennylane/qaoa/cost.py), we employ the following cost function:\n",
    "\n",
    "$$\n",
    "    \\hat C = -\\frac 34 \\sum_{(i, j) \\in E(G)} (\\hat Z_i \\hat Z_j  +  \\hat Z_i  +  \\hat Z_j)  + \\sum_{i \\in V(G)} \\hat Z_i,\n",
    "$$\n",
    "\n",
    "where $E(G)$ is the set of edges and $V(G)$ is the set of vertices of the graph $G$ (we have a global minus sign since we _maximize_ the cost function)."
   ]
  },
  {
   "cell_type": "code",
   "execution_count": 79,
   "id": "ffe913bf",
   "metadata": {},
   "outputs": [
    {
     "name": "stderr",
     "output_type": "stream",
     "text": [
      "WARNING: replacing module QAOA.\n"
     ]
    }
   ],
   "source": [
    "using DrWatson\n",
    "@quickactivate \"QAOA.jl\"\n",
    "\n",
    "include(\"../src/QAOA.jl\")\n",
    "\n",
    "using PyPlot\n",
    "PyPlot.plt.style.use(\"paper.mplstyle\")\n",
    "using PyCall\n",
    "np = pyimport(\"numpy\")\n",
    "nx = pyimport(\"networkx\");"
   ]
  },
  {
   "cell_type": "markdown",
   "id": "4e02e3de",
   "metadata": {},
   "source": [
    "The following graph should be the same as [in this example](https://pennylane.ai/qml/demos/tutorial_qaoa_intro.html):"
   ]
  },
  {
   "cell_type": "code",
   "execution_count": 2,
   "id": "ccbdfa65",
   "metadata": {},
   "outputs": [
    {
     "data": {
      "image/png": "[encoded data removed]",
      "text/plain": [
       "Figure(PyObject <Figure size 300x200 with 1 Axes>)"
      ]
     },
     "metadata": {},
     "output_type": "display_data"
    }
   ],
   "source": [
    "N = 4\n",
    "graph = nx.gnp_random_graph(N, 0.5, seed=7) \n",
    "\n",
    "figure(figsize=(3, 2))\n",
    "nx.draw(graph, with_labels=true)"
   ]
  },
  {
   "cell_type": "code",
   "execution_count": 3,
   "id": "e2a882c8",
   "metadata": {},
   "outputs": [
    {
     "data": {
      "text/plain": [
       "4×4 Matrix{Float64}:\n",
       " 0.0  0.0  0.0  0.0\n",
       " 0.0  0.0  0.0  0.0\n",
       " 0.0  0.0  0.0  0.0\n",
       " 0.0  0.0  0.0  0.0"
      ]
     },
     "execution_count": 3,
     "metadata": {},
     "output_type": "execute_result"
    }
   ],
   "source": [
    "h = -ones(N)\n",
    "J = zeros(N, N)"
   ]
  },
  {
   "cell_type": "markdown",
   "id": "46cfe4ec",
   "metadata": {},
   "source": [
    "Note that we have to __shift the edges by 1__ when going from Python to Julia:"
   ]
  },
  {
   "cell_type": "code",
   "execution_count": 4,
   "id": "7c5a1d94",
   "metadata": {
    "scrolled": true
   },
   "outputs": [
    {
     "name": "stdout",
     "output_type": "stream",
     "text": [
      "[0.5, 0.5, 1.25, -0.25]\n"
     ]
    },
    {
     "data": {
      "text/plain": [
       "4×4 Matrix{Float64}:\n",
       " 0.0  0.75  0.75  0.0\n",
       " 0.0  0.0   0.75  0.0\n",
       " 0.0  0.0   0.0   0.75\n",
       " 0.0  0.0   0.0   0.0"
      ]
     },
     "execution_count": 4,
     "metadata": {},
     "output_type": "execute_result"
    }
   ],
   "source": [
    "for edge in graph.edges\n",
    "    h[edge[1] + 1] += 3/4.\n",
    "    h[edge[2] + 1] += 3/4.\n",
    "    J[(edge .+ (1, 1))...] = 3/4.\n",
    "end\n",
    "println(h)\n",
    "J"
   ]
  },
  {
   "cell_type": "markdown",
   "id": "4278f528",
   "metadata": {},
   "source": [
    "Since our algorithm _maximizes_ the cost function, we put in __extra minus signs__ for the problem parameters."
   ]
  },
  {
   "cell_type": "code",
   "execution_count": 5,
   "id": "20594a4a",
   "metadata": {},
   "outputs": [
    {
     "data": {
      "text/plain": [
       "Main.QAOA.Problem\n",
       "  num_qubits: Int64 4\n",
       "  num_layers: Int64 2\n",
       "  local_fields: Array{Real}((4,)) Real[-0.5, -0.5, -1.25, 0.25]\n",
       "  couplings: Array{Real}((4, 4)) Real[-0.0 -0.75 -0.75 -0.0; -0.0 -0.0 -0.75 -0.0; -0.0 -0.0 -0.0 -0.75; -0.0 -0.0 -0.0 -0.0]\n",
       "  driver: YaoBlocks.ConstGate.XGate X\n"
      ]
     },
     "execution_count": 5,
     "metadata": {},
     "output_type": "execute_result"
    }
   ],
   "source": [
    "p = 2\n",
    "problem = QAOA.Problem(p, -h, -J)"
   ]
  },
  {
   "cell_type": "markdown",
   "id": "36b3ddd0",
   "metadata": {},
   "source": [
    "__Gradient optimization with [Zygote](https://fluxml.ai/Zygote.jl/latest/):__"
   ]
  },
  {
   "cell_type": "code",
   "execution_count": 6,
   "id": "70ea18ce",
   "metadata": {},
   "outputs": [
    {
     "data": {
      "text/plain": [
       "(1.9649341584194717, [0.48615867835201454, 0.2870174109818036, 0.28212724428385044, 0.6744919980520789], [0.010304739834811092, 0.004730241649145178, 0.004730241649145177, 0.01814531631878305, 0.04574210959878468, 0.2784461710988903, 0.27844617109889, 0.046443292480159507, 0.0021179793212440187, 0.010039586539297055, 0.010039586539297048, 0.17413614704267616, 0.002711820742822407, 0.0414040422372753, 0.0414040422372753, 0.031158511611503202])"
      ]
     },
     "execution_count": 6,
     "metadata": {},
     "output_type": "execute_result"
    }
   ],
   "source": [
    "learning_rate = 0.01\n",
    "cost, params, probs = QAOA.optimize_parameters(problem, vcat([0.5 for _ in 1:p], [0.5 for _ in 1:p]); learning_rate=learning_rate)"
   ]
  },
  {
   "cell_type": "markdown",
   "id": "76ae90e1",
   "metadata": {},
   "source": [
    "__Optimization with [NLopt](https://nlopt.readthedocs.io/en/latest/):__"
   ]
  },
  {
   "cell_type": "code",
   "execution_count": 7,
   "id": "bcdf8eaa",
   "metadata": {},
   "outputs": [
    {
     "data": {
      "text/plain": [
       "(1.9649364529194528, [0.4861620945749506, 0.287023132879605, 0.28227047493008617, 0.6754107266255658], [0.01034725247993744, 0.0047816695474304245, 0.004781669547430437, 0.01815050095871333, 0.04564422567830565, 0.27852810951358387, 0.2785281095135839, 0.04625685223911709, 0.0021039413830081493, 0.010024352578295254, 0.010024352578295244, 0.17429455800083335, 0.0026970605792319487, 0.041370161667550594, 0.041370161667550615, 0.031097022067132656])"
      ]
     },
     "execution_count": 7,
     "metadata": {},
     "output_type": "execute_result"
    }
   ],
   "source": [
    "cost, params, probs = QAOA.optimize_parameters(problem, vcat([0.5 for _ in 1:p], [0.5 for _ in 1:p]), :LN_COBYLA)"
   ]
  },
  {
   "cell_type": "code",
   "execution_count": 8,
   "id": "3fab0996",
   "metadata": {},
   "outputs": [
    {
     "data": {
      "image/png": "[encoded data removed]",
      "text/plain": [
       "Figure(PyObject <Figure size 400x300 with 1 Axes>)"
      ]
     },
     "metadata": {},
     "output_type": "display_data"
    }
   ],
   "source": [
    "figure(figsize=(4, 3))\n",
    "bar(0:2^N-1, probs)\n",
    "tight_layout()"
   ]
  },
  {
   "cell_type": "markdown",
   "id": "adc34da9",
   "metadata": {},
   "source": [
    "The states `5` $\\equiv |1010\\rangle$ and `6` $\\equiv |0110\\rangle$ are indeed the correct solutions! Observe that `Yao.jl` uses the _opposite_ order when decoding binaries compared to, e.g., Pennylane (i.e. our solution `5` is their solution `10`)."
   ]
  },
  {
   "cell_type": "markdown",
   "id": "01912044",
   "metadata": {},
   "source": [
    "### Other drivers"
   ]
  },
  {
   "cell_type": "code",
   "execution_count": 80,
   "id": "1df83273",
   "metadata": {
    "scrolled": true
   },
   "outputs": [
    {
     "data": {
      "text/plain": [
       "(1.9180563139862967, [0.2391259557078586, 0.17435590375998966, 0.27976650074093784, 0.48534381164519474], [0.001241035253788404, 0.007169308099244508, 0.007169308099244497, 0.005212767417562185, 0.1536750628684488, 0.2258546403502082, 0.22585464035020814, 0.10608072126580746, 0.010622019801067674, 0.01693503294926426, 0.01693503294926428, 0.06041241613371428, 0.005212767417562185, 0.07743558186623642, 0.0774355818662364, 0.0027540833121427735])"
      ]
     },
     "execution_count": 80,
     "metadata": {},
     "output_type": "execute_result"
    }
   ],
   "source": [
    "problem_XX = QAOA.Problem(p, -h, -J, [X, X])\n",
    "QAOA.optimize_parameters(problem_XX, vcat([0.5 for _ in 1:p], [0.5 for _ in 1:p]); learning_rate=learning_rate)"
   ]
  },
  {
   "cell_type": "code",
   "execution_count": 81,
   "id": "88e58a2f",
   "metadata": {},
   "outputs": [
    {
     "data": {
      "text/plain": [
       "(1.8430325875155034, [0.21731461819533393, 0.16018832545194436, 0.42137663445415224, 0.5838104715744677], [0.0007756723035568988, 0.004279004850906716, 0.004279004850906717, 0.006343081329668009, 0.23728982174693763, 0.20380501602683154, 0.2038050160268315, 0.06249999999999999, 0.004152168551249152, 0.0017980131343389753, 0.0017980131343389764, 0.06250000000000006, 0.006343081329668012, 0.06250000000000003, 0.06250000000000006, 0.07533210671476641])"
      ]
     },
     "execution_count": 81,
     "metadata": {},
     "output_type": "execute_result"
    }
   ],
   "source": [
    "problem_XX_YY = QAOA.Problem(p, -h, -J, [[X, X], [Y, Y]])\n",
    "QAOA.optimize_parameters(problem_XX_YY, vcat([0.5 for _ in 1:p], [0.5 for _ in 1:p]); learning_rate=learning_rate)"
   ]
  },
  {
   "cell_type": "code",
   "execution_count": null,
   "id": "23f137fd",
   "metadata": {},
   "outputs": [],
   "source": []
  }
 ],
 "metadata": {
  "kernelspec": {
   "display_name": "Julia 1.7.2",
   "language": "julia",
   "name": "julia-1.7"
  },
  "language_info": {
   "file_extension": ".jl",
   "mimetype": "application/julia",
   "name": "julia",
   "version": "1.7.2"
  }
 },
 "nbformat": 4,
 "nbformat_minor": 5
}
