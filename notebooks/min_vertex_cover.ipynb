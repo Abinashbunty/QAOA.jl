{
 "cells": [
  {
   "cell_type": "markdown",
   "id": "ac910b68",
   "metadata": {},
   "source": [
    "# Minimum Vertex Cover"
   ]
  },
  {
   "cell_type": "markdown",
   "id": "204afa8b",
   "metadata": {},
   "source": [
    "To be able to directly compare to the [Pennylane implementation](https://github.com/PennyLaneAI/pennylane/blob/master/pennylane/qaoa/cost.py), we employ the following cost function:\n",
    "\n",
    "$$\n",
    "    \\hat C = \\frac 34 \\sum_{(i, j) \\in E(G)} (\\hat Z_i \\hat Z_j  +  \\hat Z_i  +  \\hat Z_j)  - \\sum_{i \\in V(G)} \\hat Z_i,\n",
    "$$\n",
    "\n",
    "where $E(G)$ is the set of edges and $V(G)$ is the set of vertices of the graph $G$."
   ]
  },
  {
   "cell_type": "code",
   "execution_count": 2,
   "id": "ffe913bf",
   "metadata": {},
   "outputs": [],
   "source": [
    "using DrWatson\n",
    "@quickactivate \"QAOA.jl\"\n",
    "\n",
    "include(\"../src/QAOA.jl\")\n",
    "\n",
    "using PyPlot\n",
    "PyPlot.plt.style.use(\"paper.mplstyle\")\n",
    "using PyCall\n",
    "np = pyimport(\"numpy\")\n",
    "nx = pyimport(\"networkx\");"
   ]
  },
  {
   "cell_type": "markdown",
   "id": "4e02e3de",
   "metadata": {},
   "source": [
    "The following graph should be the same as [in this example](https://pennylane.ai/qml/demos/tutorial_qaoa_intro.html):"
   ]
  },
  {
   "cell_type": "code",
   "execution_count": 3,
   "id": "ccbdfa65",
   "metadata": {},
   "outputs": [
    {
     "data": {
      "image/png": "[encoded data removed]",
      "text/plain": [
       "Figure(PyObject <Figure size 300x200 with 1 Axes>)"
      ]
     },
     "metadata": {},
     "output_type": "display_data"
    }
   ],
   "source": [
    "N = 4\n",
    "graph = nx.gnp_random_graph(N, 0.5, seed=7) \n",
    "\n",
    "figure(figsize=(3, 2))\n",
    "nx.draw(graph, with_labels=true)"
   ]
  },
  {
   "cell_type": "code",
   "execution_count": 4,
   "id": "e2a882c8",
   "metadata": {},
   "outputs": [
    {
     "data": {
      "text/plain": [
       "4×4 Matrix{Float64}:\n",
       " 0.0  0.0  0.0  0.0\n",
       " 0.0  0.0  0.0  0.0\n",
       " 0.0  0.0  0.0  0.0\n",
       " 0.0  0.0  0.0  0.0"
      ]
     },
     "execution_count": 4,
     "metadata": {},
     "output_type": "execute_result"
    }
   ],
   "source": [
    "h = -ones(N)\n",
    "J = zeros(N, N)"
   ]
  },
  {
   "cell_type": "markdown",
   "id": "46cfe4ec",
   "metadata": {},
   "source": [
    "Note that we have to __shift the edges by 1__ when going from Python to Julia:"
   ]
  },
  {
   "cell_type": "code",
   "execution_count": 5,
   "id": "7c5a1d94",
   "metadata": {
    "scrolled": true
   },
   "outputs": [
    {
     "name": "stdout",
     "output_type": "stream",
     "text": [
      "[0.5, 0.5, 1.25, -0.25]\n"
     ]
    },
    {
     "data": {
      "text/plain": [
       "4×4 Matrix{Float64}:\n",
       " 0.0  0.75  0.75  0.0\n",
       " 0.0  0.0   0.75  0.0\n",
       " 0.0  0.0   0.0   0.75\n",
       " 0.0  0.0   0.0   0.0"
      ]
     },
     "execution_count": 5,
     "metadata": {},
     "output_type": "execute_result"
    }
   ],
   "source": [
    "for edge in graph.edges\n",
    "    h[edge[1] + 1] += 3/4.\n",
    "    h[edge[2] + 1] += 3/4.\n",
    "    J[(edge .+ (1, 1))...] = 3/4.\n",
    "end\n",
    "println(h)\n",
    "J"
   ]
  },
  {
   "cell_type": "markdown",
   "id": "4278f528",
   "metadata": {},
   "source": [
    "Since our algorithm _maximizes_ the cost function, we put in __extra minus signs__ for the problem parameters."
   ]
  },
  {
   "cell_type": "code",
   "execution_count": 6,
   "id": "20594a4a",
   "metadata": {},
   "outputs": [
    {
     "data": {
      "text/plain": [
       "Main.QAOA.Problem\n",
       "  num_qubits: Int64 4\n",
       "  num_layers: Int64 2\n",
       "  local_fields: Array{Real}((4,)) Real[-0.5, -0.5, -1.25, 0.25]\n",
       "  couplings: Array{Real}((4, 4)) Real[-0.0 -0.75 -0.75 -0.0; -0.0 -0.0 -0.75 -0.0; -0.0 -0.0 -0.0 -0.75; -0.0 -0.0 -0.0 -0.0]\n"
      ]
     },
     "execution_count": 6,
     "metadata": {},
     "output_type": "execute_result"
    }
   ],
   "source": [
    "p = 2\n",
    "problem = QAOA.Problem(p, -h, -J)"
   ]
  },
  {
   "cell_type": "markdown",
   "id": "36b3ddd0",
   "metadata": {},
   "source": [
    "__Gradient optimization with [Zygote](https://fluxml.ai/Zygote.jl/latest/):__"
   ]
  },
  {
   "cell_type": "code",
   "execution_count": 7,
   "id": "70ea18ce",
   "metadata": {},
   "outputs": [
    {
     "data": {
      "text/plain": [
       "(1.9649341584194717, [0.48615867835201454, 0.2870174109818036, 0.28212724428385044, 0.6744919980520789], [0.010304739834811092, 0.004730241649145178, 0.004730241649145177, 0.01814531631878305, 0.04574210959878468, 0.2784461710988903, 0.27844617109889, 0.046443292480159507, 0.0021179793212440187, 0.010039586539297055, 0.010039586539297048, 0.17413614704267616, 0.002711820742822407, 0.0414040422372753, 0.0414040422372753, 0.031158511611503202])"
      ]
     },
     "execution_count": 7,
     "metadata": {},
     "output_type": "execute_result"
    }
   ],
   "source": [
    "learning_rate = 0.01\n",
    "cost, params, probs = QAOA.optimize_parameters(problem, vcat([0.5 for _ in 1:p], [0.5 for _ in 1:p]); learning_rate=learning_rate)"
   ]
  },
  {
   "cell_type": "markdown",
   "id": "76ae90e1",
   "metadata": {},
   "source": [
    "__Optimization with [NLopt](https://nlopt.readthedocs.io/en/latest/):__"
   ]
  },
  {
   "cell_type": "code",
   "execution_count": 8,
   "id": "bcdf8eaa",
   "metadata": {},
   "outputs": [
    {
     "data": {
      "text/plain": [
       "(1.9649364529194528, [0.4861620945749506, 0.287023132879605, 0.28227047493008617, 0.6754107266255658], [0.01034725247993744, 0.0047816695474304245, 0.004781669547430437, 0.01815050095871333, 0.04564422567830565, 0.27852810951358387, 0.2785281095135839, 0.04625685223911709, 0.0021039413830081493, 0.010024352578295254, 0.010024352578295244, 0.17429455800083335, 0.0026970605792319487, 0.041370161667550594, 0.041370161667550615, 0.031097022067132656])"
      ]
     },
     "execution_count": 8,
     "metadata": {},
     "output_type": "execute_result"
    }
   ],
   "source": [
    "cost, params, probs = QAOA.optimize_parameters(problem, vcat([0.5 for _ in 1:p], [0.5 for _ in 1:p]), :LN_COBYLA)"
   ]
  },
  {
   "cell_type": "code",
   "execution_count": 9,
   "id": "3fab0996",
   "metadata": {},
   "outputs": [
    {
     "data": {
      "image/png": "[encoded data removed]",
      "text/plain": [
       "Figure(PyObject <Figure size 400x300 with 1 Axes>)"
      ]
     },
     "metadata": {},
     "output_type": "display_data"
    }
   ],
   "source": [
    "figure(figsize=(4, 3))\n",
    "bar(0:2^N-1, probs)\n",
    "tight_layout()"
   ]
  },
  {
   "cell_type": "markdown",
   "id": "adc34da9",
   "metadata": {},
   "source": [
    "The states `5` $\\equiv |1010\\rangle$ and `6` $\\equiv |0110\\rangle$ are indeed the correct solutions! Observe that `Yao.jl` uses the _opposite_ order when decoding binaries compared to, e.g., Pennylane (i.e. our solution `5` is their solution `10`)."
   ]
  }
 ],
 "metadata": {
  "kernelspec": {
   "display_name": "Julia 1.7.2",
   "language": "julia",
   "name": "julia-1.7"
  },
  "language_info": {
   "file_extension": ".jl",
   "mimetype": "application/julia",
   "name": "julia",
   "version": "1.7.2"
  }
 },
 "nbformat": 4,
 "nbformat_minor": 5
}
